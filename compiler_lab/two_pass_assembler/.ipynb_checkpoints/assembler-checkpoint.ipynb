{
 "cells": [
  {
   "cell_type": "code",
   "execution_count": 1,
   "metadata": {
    "collapsed": true
   },
   "outputs": [],
   "source": [
    "import numpy as np\n",
    "import pandas as pd\n",
    "import fileinput"
   ]
  },
  {
   "cell_type": "code",
   "execution_count": 2,
   "metadata": {
    "collapsed": true
   },
   "outputs": [],
   "source": [
    "def removeSpecialChars(l):\n",
    "    l=l.replace('\\n',\"\")\n",
    "    return l"
   ]
  },
  {
   "cell_type": "code",
   "execution_count": 3,
   "metadata": {
    "collapsed": true
   },
   "outputs": [],
   "source": [
    "def getFilteredSentences(f):\n",
    "    lines = f.readlines()\n",
    "    sentences = []\n",
    "    for l in lines:\n",
    "        l1 = removeSpecialChars(l)\n",
    "        words = l1.split('\\t')\n",
    "        sentences.append([w for w in words if w not in set([\"ADDRESS\" , \"MNEMONICS\",'' ])])\n",
    "        if [] in sentences:\n",
    "            sentences.remove([])\n",
    "    return sentences"
   ]
  },
  {
   "cell_type": "code",
   "execution_count": 4,
   "metadata": {
    "collapsed": true
   },
   "outputs": [],
   "source": [
    "def getOpcodes(path):\n",
    "    f = open(path , 'r')\n",
    "    sentences = getFilteredSentences(f)\n",
    "    d = {}\n",
    "    for s in sentences:\n",
    "        d[s[0]] = s[1]\n",
    "    return d"
   ]
  },
  {
   "cell_type": "code",
   "execution_count": 5,
   "metadata": {
    "collapsed": true
   },
   "outputs": [],
   "source": [
    "def output_pass2(path , sym):\n",
    "    f = open(path , 'r')\n",
    "    filedata = f.read()\n",
    "    for i in sym:\n",
    "        filedata = filedata.replace(i[0], i[1])\n",
    "    f = open(path , 'w')\n",
    "    f.write(filedata)\n",
    "    return"
   ]
  },
  {
   "cell_type": "code",
   "execution_count": 6,
   "metadata": {
    "collapsed": true
   },
   "outputs": [],
   "source": [
    "def output_pass1(path , sentences , dictionary):\n",
    "    f = open(path , 'w+')\n",
    "    sym =[]\n",
    "    for s in sentences:\n",
    "        if s[0] != '.':\n",
    "            sym.append([s[0],s[1]])\n",
    "        curr = s[1] + '\\t' + dictionary[s[2]]\n",
    "        if(len(s)>3):\n",
    "            curr = curr +'\\t' + s[3]\n",
    "        f.write(curr)\n",
    "        f.write('\\n')\n",
    "    return sym"
   ]
  },
  {
   "cell_type": "code",
   "execution_count": 7,
   "metadata": {
    "collapsed": true
   },
   "outputs": [],
   "source": [
    "path = \"/home/anirudh/compiler/two_pass_assembler/input1\"\n",
    "f = open(path , 'r')\n",
    "sentences = getFilteredSentences(f)\n",
    "path = \"/home/anirudh/compiler/two_pass_assembler/OPCODES\"\n",
    "dictionary = getOpcodes(path)"
   ]
  },
  {
   "cell_type": "code",
   "execution_count": 8,
   "metadata": {},
   "outputs": [
    {
     "data": {
      "text/plain": [
       "[['.', '2000', 'LDA', '2050'],\n",
       " ['.', '2003', 'MOV B, A'],\n",
       " ['.', '2004', 'LXI H', '2051'],\n",
       " ['.', '2007', 'MVI A', '00'],\n",
       " ['.', '2009', 'MVI C', '00'],\n",
       " ['label2', '200B', 'ADD M'],\n",
       " ['.', '200C', 'INR L'],\n",
       " ['.', '200D', 'JNC', 'label1'],\n",
       " ['.', '2010', 'INR C'],\n",
       " ['label1', '2011', 'DCR B'],\n",
       " ['.', '2012', 'JNZ', 'label2'],\n",
       " ['.', '2015', 'STA', '3050'],\n",
       " ['.', '2018', 'MOV A, C'],\n",
       " ['.', '2019', 'STA', '3051'],\n",
       " ['.', '201C', 'HLT']]"
      ]
     },
     "execution_count": 8,
     "metadata": {},
     "output_type": "execute_result"
    }
   ],
   "source": [
    "sentences"
   ]
  },
  {
   "cell_type": "code",
   "execution_count": 9,
   "metadata": {},
   "outputs": [
    {
     "name": "stdout",
     "output_type": "stream",
     "text": [
      "[['label2', '200B'], ['label1', '2011']]\n"
     ]
    }
   ],
   "source": [
    "path = \"/home/addrija/sem 5/Compiler/output\"\n",
    "sym = output_pass1(path , sentences , dictionary)\n",
    "print(sym)"
   ]
  },
  {
   "cell_type": "code",
   "execution_count": 10,
   "metadata": {
    "collapsed": true
   },
   "outputs": [],
   "source": [
    "output_pass2(path , sym)"
   ]
  }
 ],
 "metadata": {
  "kernelspec": {
   "display_name": "Python 3",
   "language": "python",
   "name": "python3"
  },
  "language_info": {
   "codemirror_mode": {
    "name": "ipython",
    "version": 3
   },
   "file_extension": ".py",
   "mimetype": "text/x-python",
   "name": "python",
   "nbconvert_exporter": "python",
   "pygments_lexer": "ipython3",
   "version": "3.7.1"
  }
 },
 "nbformat": 4,
 "nbformat_minor": 2
}
